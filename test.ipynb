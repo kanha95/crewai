{
 "cells": [
  {
   "cell_type": "code",
   "execution_count": 1,
   "metadata": {},
   "outputs": [
    {
     "name": "stdout",
     "output_type": "stream",
     "text": [
      "{'researcher': {'role': 'Researcher', 'goal': 'Conduct in-depth research and provide detailed insights.', 'verbose': True, 'memory': True, 'backstory': 'A meticulous researcher skilled at finding critical information on any topic.'}, 'writer': {'role': 'Writer', 'goal': 'Write and edit high-quality articles.', 'verbose': True, 'memory': True, 'backstory': 'A creative writer who excels at crafting engaging and informative articles.'}, 'decision_maker': {'role': 'Decision Maker', 'goal': 'Analyze user queries and decide which workflow to execute dynamically.', 'verbose': True, 'memory': False, 'backstory': 'A skilled decision-maker capable of dynamically triggering workflows.'}}\n"
     ]
    }
   ],
   "source": [
    "import yaml\n",
    "\n",
    "with open('config/agents.yaml', 'r') as file:\n",
    "    agents = yaml.safe_load(file)\n",
    "\n",
    "print(agents)"
   ]
  }
 ],
 "metadata": {
  "kernelspec": {
   "display_name": "myenv",
   "language": "python",
   "name": "python3"
  },
  "language_info": {
   "codemirror_mode": {
    "name": "ipython",
    "version": 3
   },
   "file_extension": ".py",
   "mimetype": "text/x-python",
   "name": "python",
   "nbconvert_exporter": "python",
   "pygments_lexer": "ipython3",
   "version": "3.12.8"
  }
 },
 "nbformat": 4,
 "nbformat_minor": 2
}
